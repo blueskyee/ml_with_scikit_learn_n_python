{
 "cells": [
  {
   "cell_type": "code",
   "execution_count": 3,
   "metadata": {
    "collapsed": false
   },
   "outputs": [
    {
     "name": "stdout",
     "output_type": "stream",
     "text": [
      "Modern Web\n",
      "54\n"
     ]
    }
   ],
   "source": [
    "class Ironmen:\n",
    "    '''這是一個叫做 Ironmen 的類別''' # Doc string\n",
    "    def __init__(self, group, participants):\n",
    "        self.group = group\n",
    "        self.participants = participants\n",
    "\n",
    "modern_web = Ironmen(\"Modern Web\", 54)\n",
    "print(modern_web.group)\n",
    "print(modern_web.participants)"
   ]
  },
  {
   "cell_type": "code",
   "execution_count": null,
   "metadata": {
    "collapsed": true
   },
   "outputs": [],
   "source": []
  }
 ],
 "metadata": {
  "kernelspec": {
   "display_name": "Python 2",
   "language": "python",
   "name": "python2"
  },
  "language_info": {
   "codemirror_mode": {
    "name": "ipython",
    "version": 2
   },
   "file_extension": ".py",
   "mimetype": "text/x-python",
   "name": "python",
   "nbconvert_exporter": "python",
   "pygments_lexer": "ipython2",
   "version": "2.7.13"
  }
 },
 "nbformat": 4,
 "nbformat_minor": 2
}
