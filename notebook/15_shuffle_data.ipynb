{
 "cells": [
  {
   "cell_type": "code",
   "execution_count": 1,
   "metadata": {
    "collapsed": false
   },
   "outputs": [
    {
     "name": "stderr",
     "output_type": "stream",
     "text": [
      "/usr/local/lib/python2.7/site-packages/matplotlib/font_manager.py:273: UserWarning: Matplotlib is building the font cache using fc-list. This may take a moment.\n",
      "  warnings.warn('Matplotlib is building the font cache using fc-list. This may take a moment.')\n"
     ]
    }
   ],
   "source": [
    "import numpy as np\n",
    "import matplotlib.pyplot as plt\n",
    "from sklearn import svm, preprocessing\n",
    "import pandas as pd\n",
    "from matplotlib import style\n",
    "style.use(\"ggplot\")"
   ]
  },
  {
   "cell_type": "code",
   "execution_count": 2,
   "metadata": {
    "collapsed": true
   },
   "outputs": [],
   "source": [
    "FEATURES =  ['DE Ratio',\n",
    "             'Trailing P/E',\n",
    "             'Price/Sales',\n",
    "             'Price/Book',\n",
    "             'Profit Margin',\n",
    "             'Operating Margin',\n",
    "             'Return on Assets',\n",
    "             'Return on Equity',\n",
    "             'Revenue Per Share',\n",
    "             'Market Cap',\n",
    "             'Enterprise Value',\n",
    "             'Forward P/E',\n",
    "             'PEG Ratio',\n",
    "             'Enterprise Value/Revenue',\n",
    "             'Enterprise Value/EBITDA',\n",
    "             'Revenue',\n",
    "             'Gross Profit',\n",
    "             'EBITDA',\n",
    "             'Net Income Avl to Common ',\n",
    "             'Diluted EPS',\n",
    "             'Earnings Growth',\n",
    "             'Revenue Growth',\n",
    "             'Total Cash',\n",
    "             'Total Cash Per Share',\n",
    "             'Total Debt',\n",
    "             'Current Ratio',\n",
    "             'Book Value Per Share',\n",
    "             'Cash Flow',\n",
    "             'Beta',\n",
    "             'Held by Insiders',\n",
    "             'Held by Institutions',\n",
    "             'Shares Short (as of',\n",
    "             'Short Ratio',\n",
    "             'Short % of Float',\n",
    "             'Shares Short (prior ']"
   ]
  },
  {
   "cell_type": "code",
   "execution_count": 3,
   "metadata": {
    "collapsed": true
   },
   "outputs": [],
   "source": [
    "def Randomizing():\n",
    "    df = pd.DataFrame({\"D1\":range(5), \"D2\":range(5)})\n",
    "    print(df)\n",
    "    df2 = df.reindex(np.random.permutation(df.index))\n",
    "    print(df2)"
   ]
  },
  {
   "cell_type": "code",
   "execution_count": 4,
   "metadata": {
    "collapsed": false
   },
   "outputs": [
    {
     "name": "stdout",
     "output_type": "stream",
     "text": [
      "   D1  D2\n",
      "0   0   0\n",
      "1   1   1\n",
      "2   2   2\n",
      "3   3   3\n",
      "4   4   4\n",
      "   D1  D2\n",
      "1   1   1\n",
      "0   0   0\n",
      "3   3   3\n",
      "2   2   2\n",
      "4   4   4\n"
     ]
    }
   ],
   "source": [
    "Randomizing()"
   ]
  },
  {
   "cell_type": "code",
   "execution_count": 8,
   "metadata": {
    "collapsed": true
   },
   "outputs": [],
   "source": [
    "def Build_Data_Set():\n",
    "    data_df = pd.DataFrame.from_csv(\"key_stats.csv\")\n",
    "\n",
    "    data_df = data_df.reindex(np.random.permutation(data_df.index))\n",
    "\n",
    "    X = np.array(data_df[FEATURES].values)#.tolist())\n",
    "\n",
    "    y = (data_df[\"Status\"]\n",
    "         .replace(\"underperform\",0)\n",
    "         .replace(\"outperform\",1)\n",
    "         .values.tolist())\n",
    "\n",
    "    X = preprocessing.scale(X)\n",
    "    X = preprocessing.normalize(X)\n",
    "\n",
    "    return X,y"
   ]
  },
  {
   "cell_type": "code",
   "execution_count": 6,
   "metadata": {
    "collapsed": true
   },
   "outputs": [],
   "source": [
    "def Analysis():\n",
    "\n",
    "    test_size = 1000\n",
    "    X, y = Build_Data_Set()\n",
    "    print(len(X))\n",
    "\n",
    "    try:\n",
    "        clf = svm.SVC(kernel=\"linear\", C= 1.0)\n",
    "        clf.fit(X[:-test_size],y[:-test_size])\n",
    "    except Exception as e: print str(e)\n",
    "\n",
    "    correct_count = 0\n",
    "\n",
    "    try:\n",
    "        re=clf.predict(X[-test_size:])\n",
    "        for x in range(1, test_size):\n",
    "            if re[-x] == y[-x]:\n",
    "                correct_count += 1\n",
    "    except Exception as e: print str(e)\n",
    "\n",
    "    print(\"Accuracy:\", (correct_count*100.00/test_size))"
   ]
  },
  {
   "cell_type": "code",
   "execution_count": 10,
   "metadata": {
    "collapsed": false
   },
   "outputs": [
    {
     "name": "stdout",
     "output_type": "stream",
     "text": [
      "2991\n",
      "('Accuracy:', 66.8)\n"
     ]
    }
   ],
   "source": [
    "Analysis()"
   ]
  },
  {
   "cell_type": "code",
   "execution_count": null,
   "metadata": {
    "collapsed": true
   },
   "outputs": [],
   "source": []
  }
 ],
 "metadata": {
  "kernelspec": {
   "display_name": "Python 2",
   "language": "python",
   "name": "python2"
  },
  "language_info": {
   "codemirror_mode": {
    "name": "ipython",
    "version": 2
   },
   "file_extension": ".py",
   "mimetype": "text/x-python",
   "name": "python",
   "nbconvert_exporter": "python",
   "pygments_lexer": "ipython2",
   "version": "2.7.13"
  }
 },
 "nbformat": 4,
 "nbformat_minor": 2
}
