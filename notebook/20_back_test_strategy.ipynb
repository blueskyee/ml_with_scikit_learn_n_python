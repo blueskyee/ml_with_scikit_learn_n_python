{
 "cells": [
  {
   "cell_type": "code",
   "execution_count": 1,
   "metadata": {
    "collapsed": false
   },
   "outputs": [
    {
     "name": "stderr",
     "output_type": "stream",
     "text": [
      "/usr/local/lib/python2.7/site-packages/matplotlib/font_manager.py:273: UserWarning: Matplotlib is building the font cache using fc-list. This may take a moment.\n",
      "  warnings.warn('Matplotlib is building the font cache using fc-list. This may take a moment.')\n"
     ]
    }
   ],
   "source": [
    "import numpy as np\n",
    "import matplotlib.pyplot as plt\n",
    "from sklearn import svm, preprocessing\n",
    "import pandas as pd\n",
    "from matplotlib import style\n",
    "import statistics\n",
    "\n",
    "style.use(\"ggplot\")"
   ]
  },
  {
   "cell_type": "code",
   "execution_count": 2,
   "metadata": {
    "collapsed": true
   },
   "outputs": [],
   "source": [
    "FEATURES =  ['DE Ratio',\n",
    "             'Trailing P/E',\n",
    "             'Price/Sales',\n",
    "             'Price/Book',\n",
    "             'Profit Margin',\n",
    "             'Operating Margin',\n",
    "             'Return on Assets',\n",
    "             'Return on Equity',\n",
    "             'Revenue Per Share',\n",
    "             'Market Cap',\n",
    "             'Enterprise Value',\n",
    "             'Forward P/E',\n",
    "             'PEG Ratio',\n",
    "             'Enterprise Value/Revenue',\n",
    "             'Enterprise Value/EBITDA',\n",
    "             'Revenue',\n",
    "             'Gross Profit',\n",
    "             'EBITDA',\n",
    "             'Net Income Avl to Common ',\n",
    "             'Diluted EPS',\n",
    "             'Earnings Growth',\n",
    "             'Revenue Growth',\n",
    "             'Total Cash',\n",
    "             'Total Cash Per Share',\n",
    "             'Total Debt',\n",
    "             'Current Ratio',\n",
    "             'Book Value Per Share',\n",
    "             'Cash Flow',\n",
    "             'Beta',\n",
    "             'Held by Insiders',\n",
    "             'Held by Institutions',\n",
    "             'Shares Short (as of',\n",
    "             'Short Ratio',\n",
    "             'Short % of Float',\n",
    "             'Shares Short (prior ']"
   ]
  },
  {
   "cell_type": "code",
   "execution_count": 3,
   "metadata": {
    "collapsed": true
   },
   "outputs": [],
   "source": [
    "def Build_Data_Set():\n",
    "    data_df = pd.DataFrame.from_csv(\"key_stats_acc_perf_NO_NA.csv\")\n",
    "\n",
    "    data_df = data_df.reindex(np.random.permutation(data_df.index))\n",
    "    data_df = data_df.replace(\"NaN\",0).replace(\"N/A\",0)\n",
    "\n",
    "    X = np.array(data_df[FEATURES].values)#.tolist())\n",
    "\n",
    "    y = (data_df[\"Status\"]\n",
    "         .replace(\"underperform\",0)\n",
    "         .replace(\"outperform\",1)\n",
    "         .values.tolist())\n",
    "\n",
    "    X = preprocessing.scale(X)\n",
    "\n",
    "    Z = np.array(data_df[[\"stock_p_change\",\"sp500_p_change\"]])\n",
    "\n",
    "    return X,y,Z"
   ]
  },
  {
   "cell_type": "code",
   "execution_count": 9,
   "metadata": {
    "collapsed": true
   },
   "outputs": [],
   "source": [
    "def Analysis():\n",
    "\n",
    "    test_size = 15\n",
    "\n",
    "    invest_amount = 10000\n",
    "    total_invests = 0\n",
    "    if_market = 0\n",
    "    if_strat = 0\n",
    "\n",
    "    X, y, Z = Build_Data_Set()\n",
    "    print(len(X))\n",
    "\n",
    "\n",
    "    clf = svm.SVC(kernel=\"linear\", C= 1.0)\n",
    "    clf.fit(X[:-test_size],y[:-test_size])\n",
    "\n",
    "    correct_count = 0\n",
    "\n",
    "    re=clf.predict(X[-test_size:])\n",
    "    for x in range(1, test_size):\n",
    "        if re[-x] == y[-x]:\n",
    "            correct_count += 1\n",
    "\n",
    "        if re[-x] == 1:\n",
    "            invest_return = invest_amount + (invest_amount * (Z[-x][0]/100))\n",
    "            market_return = invest_amount + (invest_amount * (Z[-x][1]/100))\n",
    "            total_invests += 1\n",
    "            if_market += market_return\n",
    "            if_strat += invest_return\n",
    "            \n",
    "    print(\"Accuracy:\", (correct_count/test_size) * 100.00)\n",
    "\n",
    "    print(\"Total Trades:\", total_invests)\n",
    "    print(\"Ending with Strategy:\",if_strat)\n",
    "    print(\"Ending with Market:\",if_market)\n",
    "\n",
    "    compared = ((if_strat - if_market) / if_market) * 100.0\n",
    "    do_nothing = total_invests * invest_amount\n",
    "\n",
    "    avg_market = ((if_market - do_nothing) / do_nothing) * 100.0\n",
    "    avg_strat = ((if_strat - do_nothing) / do_nothing) * 100.0\n",
    "\n",
    "    print(\"Compared to market, we earn\",str(compared)+\"% more\")\n",
    "    print(\"Average investment return:\", str(avg_strat)+\"%\")\n",
    "    print(\"Average market return:\", str(avg_market)+\"%\")            "
   ]
  },
  {
   "cell_type": "code",
   "execution_count": 10,
   "metadata": {
    "collapsed": false
   },
   "outputs": [
    {
     "name": "stdout",
     "output_type": "stream",
     "text": [
      "109\n",
      "('Accuracy:', 0.0)\n",
      "('Total Trades:', 8)\n",
      "('Ending with Strategy:', 98281.0)\n",
      "('Ending with Market:', 87968.0)\n",
      "('Compared to market, we earn', '11.7235813023% more')\n",
      "('Average investment return:', '22.85125%')\n",
      "('Average market return:', '9.96%')\n"
     ]
    }
   ],
   "source": [
    "Analysis()"
   ]
  },
  {
   "cell_type": "code",
   "execution_count": null,
   "metadata": {
    "collapsed": true
   },
   "outputs": [],
   "source": []
  }
 ],
 "metadata": {
  "kernelspec": {
   "display_name": "Python 2",
   "language": "python",
   "name": "python2"
  },
  "language_info": {
   "codemirror_mode": {
    "name": "ipython",
    "version": 2
   },
   "file_extension": ".py",
   "mimetype": "text/x-python",
   "name": "python",
   "nbconvert_exporter": "python",
   "pygments_lexer": "ipython2",
   "version": "2.7.13"
  }
 },
 "nbformat": 4,
 "nbformat_minor": 2
}
