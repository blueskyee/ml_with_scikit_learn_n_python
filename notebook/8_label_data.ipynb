{
 "cells": [
  {
   "cell_type": "code",
   "execution_count": 1,
   "metadata": {
    "collapsed": true
   },
   "outputs": [],
   "source": [
    "import pandas as pd\n",
    "import os\n",
    "import time\n",
    "from datetime import datetime"
   ]
  },
  {
   "cell_type": "code",
   "execution_count": 2,
   "metadata": {
    "collapsed": true
   },
   "outputs": [],
   "source": [
    "path = \"/Users/henry/Documents/github/ml_with_scikit_learn_n_python/intraQuarter\""
   ]
  },
  {
   "cell_type": "code",
   "execution_count": 3,
   "metadata": {
    "collapsed": true
   },
   "outputs": [],
   "source": [
    "def Key_Stats(gather=\"Total Debt/Equity (mrq)\"):\n",
    "    statspath = path+'/_KeyStats'\n",
    "    stock_list = [x[0] for x in os.walk(statspath)]\n",
    "    #print(stock_list)\n",
    "\n",
    "    df = pd.DataFrame(columns = ['Date',\n",
    "                                 'Unix',\n",
    "                                 'Ticker',\n",
    "                                 'DE Ratio',\n",
    "                                 'Price',\n",
    "                                 'stock_p_change',\n",
    "                                 'SP500',\n",
    "                                 'sp500_p_change'])\n",
    "    sp500_df = pd.DataFrame.from_csv(\"/Users/henry/Documents/github/ml_with_scikit_learn_n_python/YAHOO-INDEX_GSPC.csv\")\n",
    "\n",
    "    ticker_list = []\n",
    "\n",
    "    for each_dir in stock_list[1:25]:\n",
    "        each_file = os.listdir(each_dir)\n",
    "        ticker = each_dir.split(\"/\")[-1]\n",
    "        ticker_list.append(ticker)\n",
    "\n",
    "        starting_stock_value = False\n",
    "        starting_sp500_value = False\n",
    "        if len(each_file) > 0:\n",
    "            for file in each_file:\n",
    "                date_stamp = datetime.strptime(file, '%Y%m%d%H%M%S.html')\n",
    "                unix_time = time.mktime(date_stamp.timetuple())\n",
    "                full_file_path = each_dir+'/'+file\n",
    "                source = open(full_file_path,'r').read()\n",
    "                try:\n",
    "                    value = float(source.split(gather+':</td><td class=\"yfnc_tabledata1\">')[1].split('</td>')[0])\n",
    "\n",
    "                    try:\n",
    "                        sp500_date = datetime.fromtimestamp(unix_time).strftime('%Y-%m-%d')\n",
    "                        row = sp500_df[(sp500_df.index == sp500_date)]\n",
    "                        sp500_value = float(row[\"Adj Close\"])\n",
    "                    except:\n",
    "                        sp500_date = datetime.fromtimestamp(unix_time-259200).strftime('%Y-%m-%d')\n",
    "                        row = sp500_df[(sp500_df.index == sp500_date)]\n",
    "                        sp500_value = float(row[\"Adj Close\"])\n",
    "                        \n",
    "                    stock_price = float(source.split('</small><big><b>')[1].split('</b></big>')[0])\n",
    "                    #print(\"stock_price:\",stock_price,\"ticker:\", ticker)\n",
    "\n",
    "                    if not starting_stock_value:\n",
    "                        starting_stock_value = stock_price\n",
    "                    if not starting_sp500_value:\n",
    "                        starting_sp500_value = sp500_value\n",
    "                    stock_p_change = ((stock_price - starting_stock_value) / starting_stock_value) * 100\n",
    "                    sp500_p_change = ((sp500_value - starting_sp500_value) / starting_sp500_value) * 100\n",
    "\n",
    "                    df = df.append({'Date':date_stamp,\n",
    "                                    'Unix':unix_time,\n",
    "                                    'Ticker':ticker,\n",
    "                                    'DE Ratio':value,\n",
    "                                    'Price':stock_price,\n",
    "                                    'stock_p_change':stock_p_change,\n",
    "                                    'SP500':sp500_value,\n",
    "                                    'sp500_p_change':sp500_p_change}, ignore_index = True)\n",
    "                except Exception as e:\n",
    "                    pass\n",
    "                    #print(str(e))\n",
    "\n",
    "    save = gather.replace(' ','').replace(')','').replace('(','').replace('/','')+('.csv')\n",
    "    print(save)\n",
    "    df.to_csv(save)                        "
   ]
  },
  {
   "cell_type": "code",
   "execution_count": 4,
   "metadata": {
    "collapsed": false
   },
   "outputs": [
    {
     "name": "stdout",
     "output_type": "stream",
     "text": [
      "TotalDebtEquitymrq.csv\n"
     ]
    }
   ],
   "source": [
    "Key_Stats()"
   ]
  },
  {
   "cell_type": "code",
   "execution_count": 5,
   "metadata": {
    "collapsed": false
   },
   "outputs": [
    {
     "name": "stderr",
     "output_type": "stream",
     "text": [
      "/usr/local/lib/python2.7/site-packages/matplotlib/font_manager.py:273: UserWarning: Matplotlib is building the font cache using fc-list. This may take a moment.\n",
      "  warnings.warn('Matplotlib is building the font cache using fc-list. This may take a moment.')\n"
     ]
    }
   ],
   "source": [
    "import pandas as pd\n",
    "import os\n",
    "import time\n",
    "from datetime import datetime\n",
    "from time import mktime\n",
    "\n",
    "import matplotlib\n",
    "import matplotlib.pyplot as plt\n",
    "\n",
    "from matplotlib import style\n",
    "#style.use('dark_background')\n",
    "style.use('ggplot')\n",
    "\n",
    "import re\n",
    "import urllib"
   ]
  },
  {
   "cell_type": "code",
   "execution_count": 8,
   "metadata": {
    "collapsed": true
   },
   "outputs": [],
   "source": [
    "def Key_Stats_Label(gather=\"Total Debt/Equity (mrq)\"):\n",
    "\n",
    "    statspath = path+'/_KeyStats'\n",
    "    stock_list = [x[0] for x in os.walk(statspath)]\n",
    "    df = pd.DataFrame(columns = ['Date','Unix','Ticker','DE Ratio','Price','stock_p_change','SP500','sp500_p_change','Difference','Status'])\n",
    "    ticker_list = []\n",
    "\n",
    "    sp500_df = pd.DataFrame.from_csv(\"/Users/henry/Documents/Skill/python/YAHOO-INDEX_GSPC.csv\")\n",
    "\n",
    "    for each_dir in stock_list[1:5]:\n",
    "        ticker = each_dir.split(\"/\")[-1]\n",
    "        each_file = os.listdir(each_dir)\n",
    "        ticker_list.append(ticker)\n",
    "\n",
    "        starting_stock_value = False\n",
    "        starting_sp500_value = False\n",
    "\n",
    "        if len(each_file) > 0:\n",
    "\n",
    "            for file in each_file:\n",
    "                #print(file)\n",
    "\n",
    "                date_stamp = datetime.strptime(file, '%Y%m%d%H%M%S.html')\n",
    "                unix_time = mktime(date_stamp.timetuple())\n",
    "                full_file_path = each_dir+'/'+file\n",
    "                source = open(full_file_path,'r').read()\n",
    "\n",
    "                try:\n",
    "\n",
    "                    try:\n",
    "                        value = float(source.split(gather+':</td><td class=\"yfnc_tabledata1\">')[1].split('</td>')[0])\n",
    "                    except:\n",
    "                        value = float(source.split(gather+':</td>\\n<td class=\"yfnc_tabledata1\">')[1].split('</td>')[0])\n",
    "\n",
    "                    try:\n",
    "                        sp500_date = datetime.fromtimestamp(unix_time).strftime('%Y-%m-%d')\n",
    "                        row = sp500_df[(sp500_df.index == sp500_date)]\n",
    "                        sp500_value = float(row['Adjusted Close'])\n",
    "                    except:\n",
    "                        sp500_date = datetime.fromtimestamp(unix_time-259200).strftime('%Y-%m-%d')\n",
    "                        row = sp500_df[(sp500_df.index == sp500_date)]\n",
    "                        sp500_value = float(row['Adjusted Close'])\n",
    "\n",
    "                    try:\n",
    "                        stock_price = float(source.split('</small><big><b>')[1].split('</b></big>')[0])\n",
    "                    except:\n",
    "\n",
    "                        try:\n",
    "                            stock_price = (source.split('</small><big><b>')[1].split('</b></big>')[0])\n",
    "                            #print(stock_price)\n",
    "\n",
    "                            stock_price = re.search(r'(\\d{1,8}\\.\\d{1,8})', stock_price)\n",
    "\n",
    "                            stock_price = float(stock_price.group(1))\n",
    "                            #print(stock_price)\n",
    "\n",
    "                        except:\n",
    "\n",
    "                            try:\n",
    "                                stock_price = (source.split('<span class=\"time_rtq_ticker\">')[1].split('</span>')[0])\n",
    "                                #print(stock_price)\n",
    "\n",
    "                                stock_price = re.search(r'(\\d{1,8}\\.\\d{1,8})', stock_price)\n",
    "\n",
    "                                stock_price = float(stock_price.group(1))\n",
    "                                #print(stock_price)\n",
    "\n",
    "                            except:\n",
    "\n",
    "                                print('wtf stock price lol',ticker,file, value)\n",
    "                                time.sleep(5)\n",
    "\n",
    "                    if not starting_stock_value:\n",
    "                        starting_stock_value = stock_price\n",
    "\n",
    "                    if not starting_sp500_value:\n",
    "                        starting_sp500_value = sp500_value\n",
    "\n",
    "\n",
    "                    stock_p_change = ((stock_price - starting_stock_value) / starting_stock_value) * 100\n",
    "                    sp500_p_change = ((sp500_value - starting_sp500_value) / starting_sp500_value) * 100\n",
    "                    \n",
    "                    location = len(df['Date'])\n",
    "                    difference = stock_p_change-sp500_p_change\n",
    "                    if difference > 0:\n",
    "                        status = \"outperform\"\n",
    "                    else:\n",
    "                        status = \"underperform\"\n",
    "                    df = df.append({'Date':date_stamp,\n",
    "                                    'Unix':unix_time,\n",
    "                                    'Ticker':ticker,\n",
    "                                    'DE Ratio':value,\n",
    "                                    'Price':stock_price,\n",
    "                                    'stock_p_change':stock_p_change,\n",
    "                                    'SP500':sp500_value,\n",
    "                                    'sp500_p_change':sp500_p_change,\n",
    "                                    ############################\n",
    "                                    'Difference':difference,\n",
    "                                    'Status':status},\n",
    "                                   ignore_index=True)\n",
    "\n",
    "\n",
    "                except Exception as e:\n",
    "                    pass\n",
    "                    #print(ticker,e,file, value)\n",
    "\n",
    "    #print(ticker_list)\n",
    "    #print(df)\n",
    "    \n",
    "    for each_ticker in ticker_list:\n",
    "        try:\n",
    "            plot_df = df[(df['Ticker'] == each_ticker)]\n",
    "            plot_df = plot_df.set_index(['Date'])\n",
    "\n",
    "            if plot_df['Status'][-1] == 'underperform':\n",
    "                color = 'r'\n",
    "            else:\n",
    "                color = 'g'\n",
    "\n",
    "            plot_df['Difference'].plot(label=each_ticker, color=color)\n",
    "            plt.legend()\n",
    "        except Exception as e:\n",
    "            print(str(e))\n",
    "\n",
    "    plt.show()\n",
    "\n",
    "    save = gather.replace(' ','').replace(')','').replace('(','').replace('/','')+str('.csv')\n",
    "    print(save)\n",
    "    df.to_csv(save)"
   ]
  },
  {
   "cell_type": "code",
   "execution_count": 9,
   "metadata": {
    "collapsed": false
   },
   "outputs": [
    {
     "data": {
      "image/png": "[encoded data removed]",
      "text/plain": [
       "<matplotlib.figure.Figure at 0x106117250>"
      ]
     },
     "metadata": {},
     "output_type": "display_data"
    },
    {
     "name": "stdout",
     "output_type": "stream",
     "text": [
      "TotalDebtEquitymrq.csv\n"
     ]
    }
   ],
   "source": [
    "Key_Stats_Label()"
   ]
  },
  {
   "cell_type": "code",
   "execution_count": null,
   "metadata": {
    "collapsed": true
   },
   "outputs": [],
   "source": []
  }
 ],
 "metadata": {
  "kernelspec": {
   "display_name": "Python 2",
   "language": "python",
   "name": "python2"
  },
  "language_info": {
   "codemirror_mode": {
    "name": "ipython",
    "version": 2
   },
   "file_extension": ".py",
   "mimetype": "text/x-python",
   "name": "python",
   "nbconvert_exporter": "python",
   "pygments_lexer": "ipython2",
   "version": "2.7.13"
  }
 },
 "nbformat": 4,
 "nbformat_minor": 2
}
